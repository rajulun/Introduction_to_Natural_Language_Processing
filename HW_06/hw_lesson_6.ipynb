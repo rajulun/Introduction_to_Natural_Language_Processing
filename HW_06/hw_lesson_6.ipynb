{
  "nbformat": 4,
  "nbformat_minor": 0,
  "metadata": {
    "colab": {
      "name": "hw_lesson_6.ipynb",
      "provenance": [],
      "collapsed_sections": [],
      "toc_visible": true
    },
    "kernelspec": {
      "name": "python3",
      "display_name": "Python 3"
    }
  },
  "cells": [
    {
      "cell_type": "markdown",
      "metadata": {
        "id": "ZajeoQS_d9Bo",
        "colab_type": "text"
      },
      "source": [
        "## Урок 6. Рекуррентные нейронные сети. LSTM. GRU.\n",
        "1. Провести сравнение RNN, LSTM, GRU на датасете отзывов (из предыдущих занятий/материалов)\n"
      ]
    },
    {
      "cell_type": "code",
      "metadata": {
        "id": "_VOexB_Wfb5_",
        "colab_type": "code",
        "colab": {}
      },
      "source": [
        "# !pip install regex\n",
        "# !pip install stop_words\n",
        "# !pip install pymorphy2"
      ],
      "execution_count": 1,
      "outputs": []
    },
    {
      "cell_type": "code",
      "metadata": {
        "id": "fkbxYYgQd4sX",
        "colab_type": "code",
        "colab": {}
      },
      "source": [
        "import pandas as pd\n",
        "import numpy as np\n",
        "import matplotlib.pyplot as plt\n",
        "\n",
        "import nltk\n",
        "from string import punctuation\n",
        "from stop_words import get_stop_words\n",
        "from pymorphy2 import MorphAnalyzer\n",
        "import re\n",
        "\n",
        "from sklearn import linear_model\n",
        "from sklearn.metrics import roc_auc_score\n",
        "from sklearn.feature_extraction.text import HashingVectorizer\n",
        "from sklearn.model_selection import train_test_split\n",
        "from collections import defaultdict\n",
        "\n",
        "import tensorflow as tf\n",
        "import keras\n",
        "from keras.models import Sequential, Model\n",
        "from keras.layers import Dense, Dropout, Activation, Input, Embedding, Conv1D, GlobalMaxPool1D, SimpleRNN, LSTM, GRU, Masking\n",
        "from keras.preprocessing.text import Tokenizer\n",
        "from keras.preprocessing.sequence import pad_sequences\n",
        "from keras.callbacks import TensorBoard \n",
        "from keras.objectives import categorical_crossentropy\n",
        "from keras.callbacks import EarlyStopping "
      ],
      "execution_count": 2,
      "outputs": []
    },
    {
      "cell_type": "code",
      "metadata": {
        "id": "0cet3LxagNzy",
        "colab_type": "code",
        "colab": {
          "base_uri": "https://localhost:8080/",
          "height": 112
        },
        "outputId": "389c51a8-b89b-4e04-b93e-68bdaea4503a"
      },
      "source": [
        "data = pd.read_excel(\"отзывы за лето.xls\")\n",
        "data.head(2)"
      ],
      "execution_count": 3,
      "outputs": [
        {
          "output_type": "execute_result",
          "data": {
            "text/html": [
              "<div>\n",
              "<style scoped>\n",
              "    .dataframe tbody tr th:only-of-type {\n",
              "        vertical-align: middle;\n",
              "    }\n",
              "\n",
              "    .dataframe tbody tr th {\n",
              "        vertical-align: top;\n",
              "    }\n",
              "\n",
              "    .dataframe thead th {\n",
              "        text-align: right;\n",
              "    }\n",
              "</style>\n",
              "<table border=\"1\" class=\"dataframe\">\n",
              "  <thead>\n",
              "    <tr style=\"text-align: right;\">\n",
              "      <th></th>\n",
              "      <th>Rating</th>\n",
              "      <th>Content</th>\n",
              "      <th>Date</th>\n",
              "    </tr>\n",
              "  </thead>\n",
              "  <tbody>\n",
              "    <tr>\n",
              "      <th>0</th>\n",
              "      <td>5</td>\n",
              "      <td>It just works!</td>\n",
              "      <td>2017-08-14</td>\n",
              "    </tr>\n",
              "    <tr>\n",
              "      <th>1</th>\n",
              "      <td>4</td>\n",
              "      <td>В целом удобноное приложение...из минусов хотя...</td>\n",
              "      <td>2017-08-14</td>\n",
              "    </tr>\n",
              "  </tbody>\n",
              "</table>\n",
              "</div>"
            ],
            "text/plain": [
              "   Rating                                            Content        Date\n",
              "0       5                                     It just works!  2017-08-14\n",
              "1       4  В целом удобноное приложение...из минусов хотя...  2017-08-14"
            ]
          },
          "metadata": {
            "tags": []
          },
          "execution_count": 3
        }
      ]
    },
    {
      "cell_type": "code",
      "metadata": {
        "id": "scRg2MxFgNwz",
        "colab_type": "code",
        "colab": {}
      },
      "source": [
        "exclude = set(punctuation)\n",
        "sw = set(get_stop_words(\"ru\"))\n",
        "morpher = MorphAnalyzer()\n",
        "\n",
        "def preprocess_text(txt):\n",
        "    txt = str(txt)\n",
        "    txt = \"\".join(c for c in txt if c not in exclude)\n",
        "    txt = txt.lower()\n",
        "    txt = re.sub(\"\\sне\", \"не\", txt)\n",
        "    txt = [morpher.parse(word)[0].normal_form for word in txt.split() if word not in exclude]\n",
        "    return \" \".join(txt)\n",
        "\n",
        "data['text'] = data['Content'].apply(preprocess_text)\n",
        "data = data[data['Rating'] != 3]\n",
        "data['target'] = (data['Rating'] > 3)*1"
      ],
      "execution_count": 4,
      "outputs": []
    },
    {
      "cell_type": "code",
      "metadata": {
        "id": "2qRKofD5gNt7",
        "colab_type": "code",
        "colab": {
          "base_uri": "https://localhost:8080/",
          "height": 112
        },
        "outputId": "afd3295f-debb-4311-88c1-2572653b0ad0"
      },
      "source": [
        "data.head(2)"
      ],
      "execution_count": 5,
      "outputs": [
        {
          "output_type": "execute_result",
          "data": {
            "text/html": [
              "<div>\n",
              "<style scoped>\n",
              "    .dataframe tbody tr th:only-of-type {\n",
              "        vertical-align: middle;\n",
              "    }\n",
              "\n",
              "    .dataframe tbody tr th {\n",
              "        vertical-align: top;\n",
              "    }\n",
              "\n",
              "    .dataframe thead th {\n",
              "        text-align: right;\n",
              "    }\n",
              "</style>\n",
              "<table border=\"1\" class=\"dataframe\">\n",
              "  <thead>\n",
              "    <tr style=\"text-align: right;\">\n",
              "      <th></th>\n",
              "      <th>Rating</th>\n",
              "      <th>Content</th>\n",
              "      <th>Date</th>\n",
              "      <th>text</th>\n",
              "      <th>target</th>\n",
              "    </tr>\n",
              "  </thead>\n",
              "  <tbody>\n",
              "    <tr>\n",
              "      <th>0</th>\n",
              "      <td>5</td>\n",
              "      <td>It just works!</td>\n",
              "      <td>2017-08-14</td>\n",
              "      <td>it just works</td>\n",
              "      <td>1</td>\n",
              "    </tr>\n",
              "    <tr>\n",
              "      <th>1</th>\n",
              "      <td>4</td>\n",
              "      <td>В целом удобноное приложение...из минусов хотя...</td>\n",
              "      <td>2017-08-14</td>\n",
              "      <td>в целое удобноной приложениеиз минус хотеть сл...</td>\n",
              "      <td>1</td>\n",
              "    </tr>\n",
              "  </tbody>\n",
              "</table>\n",
              "</div>"
            ],
            "text/plain": [
              "   Rating  ... target\n",
              "0       5  ...      1\n",
              "1       4  ...      1\n",
              "\n",
              "[2 rows x 5 columns]"
            ]
          },
          "metadata": {
            "tags": []
          },
          "execution_count": 5
        }
      ]
    },
    {
      "cell_type": "code",
      "metadata": {
        "id": "p3D3OuVOp3a2",
        "colab_type": "code",
        "colab": {}
      },
      "source": [
        "max_words = 3000\n",
        "max_len = 40\n",
        "num_classes = 1\n",
        "\n",
        "# Training\n",
        "epochs = 5\n",
        "batch_size = 300\n",
        "print_batch_n = 100"
      ],
      "execution_count": 6,
      "outputs": []
    },
    {
      "cell_type": "code",
      "metadata": {
        "id": "O0aiEiNbuV_2",
        "colab_type": "code",
        "colab": {}
      },
      "source": [
        "df_train, df_test = train_test_split(data,  random_state=42, test_size=0.2)\n",
        "df_train, df_val  = train_test_split(df_train, random_state=42, test_size=0.2)"
      ],
      "execution_count": 7,
      "outputs": []
    },
    {
      "cell_type": "code",
      "metadata": {
        "id": "gkjaV6MuRUTl",
        "colab_type": "code",
        "colab": {}
      },
      "source": [
        "text_corpus_train = df_train['text'].values\n",
        "text_corpus_valid = df_val['text'].values\n",
        "text_corpus_test = df_test['text'].values"
      ],
      "execution_count": 8,
      "outputs": []
    },
    {
      "cell_type": "code",
      "metadata": {
        "id": "LhhGtj1oRkUJ",
        "colab_type": "code",
        "colab": {}
      },
      "source": [
        "tokenizer = Tokenizer(num_words=None, \n",
        "                     filters='#$%&()*+-<=>@[\\\\]^_`{|}~\\t\\n',\n",
        "                     lower = False, split = ' ')\n",
        "tokenizer.fit_on_texts(text_corpus_train)\n",
        "\n",
        "sequences_train = tokenizer.texts_to_sequences(text_corpus_train)\n",
        "sequences_val = tokenizer.texts_to_sequences(text_corpus_valid)\n",
        "sequences_test = tokenizer.texts_to_sequences(text_corpus_test)\n",
        "\n",
        "word_count = len(tokenizer.index_word) + 1\n",
        "training_length = max([len(i.split()) for i in text_corpus_train])\n",
        "\n",
        "X_train = pad_sequences(sequences_train, maxlen=training_length)\n",
        "X_test = pad_sequences(sequences_test, maxlen=training_length)\n",
        "X_valid = pad_sequences(sequences_val, maxlen=training_length)"
      ],
      "execution_count": 9,
      "outputs": []
    },
    {
      "cell_type": "code",
      "metadata": {
        "id": "mnA08HU4RkNK",
        "colab_type": "code",
        "colab": {}
      },
      "source": [
        "y_train = df_train['target'].values\n",
        "y_test = df_test['target'].values\n",
        "y_val = df_val['target'].values"
      ],
      "execution_count": 10,
      "outputs": []
    },
    {
      "cell_type": "code",
      "metadata": {
        "id": "Y1DrTdhQNkOj",
        "colab_type": "code",
        "colab": {}
      },
      "source": [
        "rnn_model, lstm_model, gru_model = Sequential(), Sequential(), Sequential()\n",
        "model_ = [rnn_model, lstm_model, gru_model]\n",
        "nn = [SimpleRNN, LSTM, GRU]\n",
        "# Воспользуемся возможностью объединить создание разных моделей в функцию \n",
        "# с минимумом параметров\n",
        "def build_model(model, nn):\n",
        "  model.add(\n",
        "    Embedding(input_dim=word_count,\n",
        "              input_length=training_length,\n",
        "              output_dim=30,\n",
        "              trainable=True,\n",
        "              mask_zero=True))\n",
        "  \n",
        "  model.add(Masking(mask_value=0.0))\n",
        "  model.add(nn(64, recurrent_dropout=0.2))\n",
        "  model.add(Dense(64, activation='relu'))\n",
        "  model.add(Dropout(0.5))\n",
        "  model.add(Dense(1, activation='sigmoid'))\n",
        "\n",
        "  model.compile(\n",
        "      optimizer='adam', \n",
        "      loss='binary_crossentropy', \n",
        "      metrics=['AUC'])\n",
        "\n",
        "# i = 0\n",
        "# for row in model_:\n",
        "#   build_model(model_[i], nn[i])\n",
        "#   i += 1\n"
      ],
      "execution_count": 11,
      "outputs": []
    },
    {
      "cell_type": "code",
      "metadata": {
        "id": "WCSiCszTVkn4",
        "colab_type": "code",
        "colab": {}
      },
      "source": [
        ""
      ],
      "execution_count": 11,
      "outputs": []
    },
    {
      "cell_type": "markdown",
      "metadata": {
        "id": "q7WIoDPa5k8p",
        "colab_type": "text"
      },
      "source": [
        "## RNN"
      ]
    },
    {
      "cell_type": "code",
      "metadata": {
        "id": "vseKHB-Q5gwt",
        "colab_type": "code",
        "colab": {}
      },
      "source": [
        "build_model(rnn_model, SimpleRNN)\n"
      ],
      "execution_count": 12,
      "outputs": []
    },
    {
      "cell_type": "code",
      "metadata": {
        "id": "KAo9m9M_9gmK",
        "colab_type": "code",
        "colab": {
          "base_uri": "https://localhost:8080/",
          "height": 308
        },
        "outputId": "9317be7d-6c12-459b-8268-fd7f1de5879d"
      },
      "source": [
        "early_stopping=EarlyStopping(monitor='val_loss')\n",
        "tensorboard=TensorBoard(log_dir='./logs', write_graph=True, write_images=True)\n",
        "early_stopping=EarlyStopping(monitor='val_loss')\n",
        "\n",
        "rnn_history = rnn_model.fit(X_train, y_train,\n",
        "                    batch_size=512,\n",
        "                    epochs=10,\n",
        "                    verbose=1,\n",
        "                    validation_split=0.1,\n",
        "                    callbacks=[early_stopping])"
      ],
      "execution_count": 13,
      "outputs": [
        {
          "output_type": "stream",
          "text": [
            "Epoch 1/10\n",
            "23/23 [==============================] - 8s 341ms/step - loss: 0.5934 - auc: 0.5326 - val_loss: 0.4968 - val_auc: 0.8542\n",
            "Epoch 2/10\n",
            "23/23 [==============================] - 7s 321ms/step - loss: 0.3999 - auc: 0.6915 - val_loss: 0.3155 - val_auc: 0.8955\n",
            "Epoch 3/10\n",
            "23/23 [==============================] - 7s 321ms/step - loss: 0.3215 - auc: 0.8341 - val_loss: 0.2690 - val_auc: 0.9093\n",
            "Epoch 4/10\n",
            "23/23 [==============================] - 7s 321ms/step - loss: 0.2703 - auc: 0.8944 - val_loss: 0.2352 - val_auc: 0.9358\n",
            "Epoch 5/10\n",
            "23/23 [==============================] - 7s 321ms/step - loss: 0.2209 - auc: 0.9355 - val_loss: 0.2130 - val_auc: 0.9522\n",
            "Epoch 6/10\n",
            "23/23 [==============================] - 7s 324ms/step - loss: 0.1849 - auc: 0.9561 - val_loss: 0.1998 - val_auc: 0.9625\n",
            "Epoch 7/10\n",
            "23/23 [==============================] - 7s 321ms/step - loss: 0.1576 - auc: 0.9677 - val_loss: 0.1823 - val_auc: 0.9657\n",
            "Epoch 8/10\n",
            "23/23 [==============================] - 7s 323ms/step - loss: 0.1360 - auc: 0.9767 - val_loss: 0.2213 - val_auc: 0.9598\n"
          ],
          "name": "stdout"
        }
      ]
    },
    {
      "cell_type": "code",
      "metadata": {
        "id": "N3f3uBul5gnb",
        "colab_type": "code",
        "colab": {
          "base_uri": "https://localhost:8080/",
          "height": 35
        },
        "outputId": "9cfa2107-021d-42a3-e6a4-6331972d6201"
      },
      "source": [
        "rnn_score = rnn_model.evaluate(X_valid, y_val, batch_size=512, verbose=1)\n",
        "# print('\\n')\n",
        "# print('Test score:', score[0])\n",
        "# print('Test accuracy:', score[1])"
      ],
      "execution_count": 14,
      "outputs": [
        {
          "output_type": "stream",
          "text": [
            "7/7 [==============================] - 0s 70ms/step - loss: 0.2726 - auc: 0.9306\n"
          ],
          "name": "stdout"
        }
      ]
    },
    {
      "cell_type": "code",
      "metadata": {
        "id": "yUuOs67g5gjH",
        "colab_type": "code",
        "colab": {}
      },
      "source": [
        ""
      ],
      "execution_count": 14,
      "outputs": []
    },
    {
      "cell_type": "markdown",
      "metadata": {
        "id": "vjOrpo1qdgA5",
        "colab_type": "text"
      },
      "source": [
        "## LSTM"
      ]
    },
    {
      "cell_type": "code",
      "metadata": {
        "id": "6Qimpkqy5gaT",
        "colab_type": "code",
        "colab": {}
      },
      "source": [
        "build_model(lstm_model, LSTM)\n"
      ],
      "execution_count": 15,
      "outputs": []
    },
    {
      "cell_type": "code",
      "metadata": {
        "id": "IyCEQf3I5gV3",
        "colab_type": "code",
        "colab": {
          "base_uri": "https://localhost:8080/",
          "height": 272
        },
        "outputId": "a0d7e016-4d72-4a40-f21b-ac4731f4ffde"
      },
      "source": [
        "early_stopping=EarlyStopping(monitor='val_loss')\n",
        "tensorboard=TensorBoard(log_dir='./logs', write_graph=True, write_images=True)\n",
        "early_stopping=EarlyStopping(monitor='val_loss')\n",
        "\n",
        "lstm_history = lstm_model.fit(X_train, y_train,\n",
        "                    batch_size=512,\n",
        "                    epochs=10,\n",
        "                    verbose=1,\n",
        "                    validation_split=0.1,\n",
        "                    callbacks=[early_stopping])"
      ],
      "execution_count": 16,
      "outputs": [
        {
          "output_type": "stream",
          "text": [
            "Epoch 1/10\n",
            "23/23 [==============================] - 19s 834ms/step - loss: 0.5230 - auc: 0.5688 - val_loss: 0.3667 - val_auc: 0.8897\n",
            "Epoch 2/10\n",
            "23/23 [==============================] - 19s 826ms/step - loss: 0.3322 - auc: 0.8441 - val_loss: 0.2731 - val_auc: 0.9086\n",
            "Epoch 3/10\n",
            "23/23 [==============================] - 19s 836ms/step - loss: 0.2618 - auc: 0.9080 - val_loss: 0.2362 - val_auc: 0.9361\n",
            "Epoch 4/10\n",
            "23/23 [==============================] - 19s 836ms/step - loss: 0.2065 - auc: 0.9474 - val_loss: 0.1933 - val_auc: 0.9537\n",
            "Epoch 5/10\n",
            "23/23 [==============================] - 19s 829ms/step - loss: 0.1591 - auc: 0.9685 - val_loss: 0.1775 - val_auc: 0.9630\n",
            "Epoch 6/10\n",
            "23/23 [==============================] - 19s 829ms/step - loss: 0.1244 - auc: 0.9798 - val_loss: 0.1717 - val_auc: 0.9635\n",
            "Epoch 7/10\n",
            "23/23 [==============================] - 19s 830ms/step - loss: 0.0992 - auc: 0.9859 - val_loss: 0.1811 - val_auc: 0.9607\n"
          ],
          "name": "stdout"
        }
      ]
    },
    {
      "cell_type": "code",
      "metadata": {
        "id": "kp2yQUCd5gRm",
        "colab_type": "code",
        "colab": {
          "base_uri": "https://localhost:8080/",
          "height": 35
        },
        "outputId": "87347f33-3e67-4969-c9bd-342922d2cb11"
      },
      "source": [
        "lstm_score = lstm_model.evaluate(X_valid, y_val, batch_size=512, verbose=1)\n",
        "# print('\\n')\n",
        "# print('Test score:', score[0])\n",
        "# print('Test accuracy:', score[1])"
      ],
      "execution_count": 17,
      "outputs": [
        {
          "output_type": "stream",
          "text": [
            "7/7 [==============================] - 1s 134ms/step - loss: 0.2106 - auc: 0.9459\n"
          ],
          "name": "stdout"
        }
      ]
    },
    {
      "cell_type": "code",
      "metadata": {
        "id": "0Mee8MLKeBu9",
        "colab_type": "code",
        "colab": {}
      },
      "source": [
        ""
      ],
      "execution_count": 17,
      "outputs": []
    },
    {
      "cell_type": "markdown",
      "metadata": {
        "id": "xOycs9qWeQFi",
        "colab_type": "text"
      },
      "source": [
        "## GRU"
      ]
    },
    {
      "cell_type": "code",
      "metadata": {
        "id": "PERDeqBceBpO",
        "colab_type": "code",
        "colab": {}
      },
      "source": [
        "build_model(gru_model, GRU)\n"
      ],
      "execution_count": 18,
      "outputs": []
    },
    {
      "cell_type": "code",
      "metadata": {
        "id": "s8lgN4-seBj0",
        "colab_type": "code",
        "colab": {
          "base_uri": "https://localhost:8080/",
          "height": 235
        },
        "outputId": "f1712b09-d633-4dd5-9bc5-2240a34da7c8"
      },
      "source": [
        "early_stopping=EarlyStopping(monitor='val_loss')  \n",
        "tensorboard=TensorBoard(log_dir='./logs', write_graph=True, write_images=True)\n",
        "early_stopping=EarlyStopping(monitor='val_loss')\n",
        "\n",
        "gru_history = gru_model.fit(X_train, y_train,\n",
        "                    batch_size=512,\n",
        "                    epochs=10,\n",
        "                    verbose=1,\n",
        "                    validation_split=0.1,\n",
        "                    callbacks=[early_stopping])"
      ],
      "execution_count": 19,
      "outputs": [
        {
          "output_type": "stream",
          "text": [
            "Epoch 1/10\n",
            "23/23 [==============================] - 16s 701ms/step - loss: 0.5661 - auc: 0.5555 - val_loss: 0.3701 - val_auc: 0.8915\n",
            "Epoch 2/10\n",
            "23/23 [==============================] - 16s 696ms/step - loss: 0.3484 - auc: 0.8257 - val_loss: 0.2880 - val_auc: 0.9113\n",
            "Epoch 3/10\n",
            "23/23 [==============================] - 16s 687ms/step - loss: 0.2574 - auc: 0.9156 - val_loss: 0.2371 - val_auc: 0.9273\n",
            "Epoch 4/10\n",
            "23/23 [==============================] - 16s 684ms/step - loss: 0.1997 - auc: 0.9489 - val_loss: 0.2077 - val_auc: 0.9469\n",
            "Epoch 5/10\n",
            "23/23 [==============================] - 16s 686ms/step - loss: 0.1556 - auc: 0.9690 - val_loss: 0.1944 - val_auc: 0.9574\n",
            "Epoch 6/10\n",
            "23/23 [==============================] - 16s 684ms/step - loss: 0.1188 - auc: 0.9814 - val_loss: 0.1978 - val_auc: 0.9596\n"
          ],
          "name": "stdout"
        }
      ]
    },
    {
      "cell_type": "code",
      "metadata": {
        "id": "K7SrkyoXeBeC",
        "colab_type": "code",
        "colab": {
          "base_uri": "https://localhost:8080/",
          "height": 35
        },
        "outputId": "10d004bf-429c-4eb4-ea66-47d86376a092"
      },
      "source": [
        "gru_score = gru_model.evaluate(X_valid, y_val, batch_size=512, verbose=1)\n",
        "# print('\\n')\n",
        "# print('Test score:', score[0])\n",
        "# print('Test accuracy:', score[1])"
      ],
      "execution_count": 20,
      "outputs": [
        {
          "output_type": "stream",
          "text": [
            "7/7 [==============================] - 1s 115ms/step - loss: 0.2285 - auc: 0.9415\n"
          ],
          "name": "stdout"
        }
      ]
    },
    {
      "cell_type": "code",
      "metadata": {
        "id": "ihXUTKLJDYFD",
        "colab_type": "code",
        "colab": {
          "base_uri": "https://localhost:8080/",
          "height": 513
        },
        "outputId": "0440fceb-6eb2-49e6-ba02-fc7867acf2eb"
      },
      "source": [
        "fig, ax = plt.subplots(nrows=3, ncols=2)\n",
        "ax1, ax2, ax3, ax4, ax5, ax6 = ax.flatten()\n",
        "ax_ = [ax1, ax2, ax3, ax4, ax5, ax6]\n",
        "string_ = ['auc', 'loss']\n",
        "history_ = [rnn_history, lstm_history, gru_history]\n",
        "model_ = ['RNN', 'LSTM', 'GRU']\n",
        "i = 0\n",
        "def pl_plot(ax, string, history):\n",
        "    ax.plot(history.history[string])\n",
        "    ax.grid(True)\n",
        "    ax.plot(history.history['val_'+string])\n",
        "    ax.legend([string, 'val_'+string])\n",
        "    ax.set_title(model_[i//2], loc='left')\n",
        "    ax.set_xlabel(\"Epochs\")\n",
        "    ax.set_ylabel(string)\n",
        "\n",
        "for row in ax_:\n",
        "  pl_plot(ax_[i], string_[i%2], history_[i//2])\n",
        "  # print(i%3, i//2)\n",
        "  i += 1\n",
        "\n",
        "\n",
        "fig.set_size_inches(10, 8)\n",
        "plt.subplots_adjust(wspace=0.5, hspace=0.5)"
      ],
      "execution_count": 21,
      "outputs": [
        {
          "output_type": "display_data",
          "data": {
            "image/png": "[encoded data removed]",
            "text/plain": [
              "<Figure size 720x576 with 6 Axes>"
            ]
          },
          "metadata": {
            "tags": [],
            "needs_background": "light"
          }
        }
      ]
    },
    {
      "cell_type": "code",
      "metadata": {
        "id": "Nd5ro18SivFy",
        "colab_type": "code",
        "colab": {
          "base_uri": "https://localhost:8080/",
          "height": 72
        },
        "outputId": "29009611-46ef-4646-d03b-c9596717a60b"
      },
      "source": [
        "print(\"RNN score:  {0:.4f}, RNN accuracy:  {1:.4f}\".format(rnn_score[0],rnn_score[1]))\n",
        "print(\"LSTM score: {0:.4f}, LSTM accuracy: {1:.4f}\".format(lstm_score[0],lstm_score[1]))\n",
        "print(\"GRU score:  {0:.4f}, GRU accuracy:  {1:.4f}\".format(gru_score[0],gru_score[1]))"
      ],
      "execution_count": 35,
      "outputs": [
        {
          "output_type": "stream",
          "text": [
            "RNN score:  0.2726, RNN accuracy:  0.9306\n",
            "LSTM score: 0.2106, LSTM accuracy: 0.9459\n",
            "GRU score:  0.2285, GRU accuracy:  0.9415\n"
          ],
          "name": "stdout"
        }
      ]
    },
    {
      "cell_type": "markdown",
      "metadata": {
        "id": "cZm-gzYPbwK2",
        "colab_type": "text"
      },
      "source": [
        "В данном случае немного лучше оказалась модель LSTM"
      ]
    }
  ]
}